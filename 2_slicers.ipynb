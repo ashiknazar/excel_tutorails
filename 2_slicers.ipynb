{
 "cells": [
  {
   "cell_type": "markdown",
   "metadata": {},
   "source": [
    "## slicers"
   ]
  },
  {
   "cell_type": "markdown",
   "metadata": {},
   "source": [
    "- convert data into actual table\n",
    "- ctrl+t\n",
    "- select all data \n",
    "- insert ->filters(group) -> slicer\n",
    "- select few ->ok\n"
   ]
  }
 ],
 "metadata": {
  "language_info": {
   "name": "python"
  }
 },
 "nbformat": 4,
 "nbformat_minor": 2
}
