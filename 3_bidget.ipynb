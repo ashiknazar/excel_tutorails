{
 "cells": [
  {
   "cell_type": "markdown",
   "metadata": {},
   "source": [
    "- select all data -> ctrl+t"
   ]
  },
  {
   "cell_type": "markdown",
   "metadata": {},
   "source": [
    "![month end](images/monthend.png)\n",
    "![sum debt](images/sum_debt.png)\n",
    "![sum debt](images/bid3.png)"
   ]
  },
  {
   "cell_type": "markdown",
   "metadata": {},
   "source": []
  }
 ],
 "metadata": {
  "language_info": {
   "name": "python"
  }
 },
 "nbformat": 4,
 "nbformat_minor": 2
}
