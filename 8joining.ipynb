{
 "cells": [
  {
   "cell_type": "markdown",
   "metadata": {},
   "source": [
    "- data -> get data ->from file -> from folder(folder path) -> ok \n",
    "- combine -> combine & transform ->"
   ]
  },
  {
   "cell_type": "markdown",
   "metadata": {},
   "source": [
    "___\n",
    "- choose from workbook \n",
    "- select a table and transform \n",
    "-  home -> new source -> select another  -> import ->\n",
    "- home -> merge queries -> merge queries\n",
    "->choose tables -> choose kind of join -> select common column from both tables\n",
    "- remove redundant columns if any  -> close and load"
   ]
  },
  {
   "cell_type": "markdown",
   "metadata": {},
   "source": [
    "___"
   ]
  },
  {
   "cell_type": "markdown",
   "metadata": {},
   "source": []
  },
  {
   "cell_type": "markdown",
   "metadata": {},
   "source": []
  }
 ],
 "metadata": {
  "language_info": {
   "name": "python"
  }
 },
 "nbformat": 4,
 "nbformat_minor": 2
}
