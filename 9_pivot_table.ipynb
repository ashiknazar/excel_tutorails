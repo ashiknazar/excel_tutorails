{
 "cells": [
  {
   "cell_type": "markdown",
   "metadata": {},
   "source": [
    "- a pivot table is used to create reports frm data that is in the form of tables.it allows you to quickly summarize and analyze data in your spreadsheet"
   ]
  },
  {
   "cell_type": "markdown",
   "metadata": {},
   "source": [
    "### components of a pivot table\n",
    "- rows \n",
    "- columns\n",
    "- values\n",
    "- filters"
   ]
  },
  {
   "cell_type": "markdown",
   "metadata": {},
   "source": [
    "![pivot table](images/piv.png)"
   ]
  },
  {
   "cell_type": "markdown",
   "metadata": {},
   "source": [
    "- <b>ctrl+Q selects entire table</b>"
   ]
  },
  {
   "cell_type": "markdown",
   "metadata": {},
   "source": [
    "- bottom right shows icon for quick analysis\n",
    "![wuick analysis](images/quick.png)"
   ]
  },
  {
   "cell_type": "markdown",
   "metadata": {},
   "source": []
  },
  {
   "cell_type": "markdown",
   "metadata": {},
   "source": []
  }
 ],
 "metadata": {
  "language_info": {
   "name": "python"
  }
 },
 "nbformat": 4,
 "nbformat_minor": 2
}
