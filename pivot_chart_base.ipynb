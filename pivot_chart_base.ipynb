{
 "cells": [
  {
   "cell_type": "markdown",
   "metadata": {},
   "source": [
    "1. Understand data\n",
    "2. Dencide on Analysis goal\n",
    "    - what to analyze<br>\n",
    "       - revenue,no of customers,sales,volume\n",
    "    - how do you want to group data\n",
    "       - by region , product, or time\n",
    "3. Assign fields to pivot table areas\n",
    "    - Rows\n",
    "       - use categorical data to group results(region,product ,category)\n",
    "       - each unique value in the field will create a row in pivot table\n",
    "    - Columns\n",
    "       - use categorical data that you want to compare side by side (month ,gender)\n",
    "       -  each unique value will create a column header\n",
    "4. Values\n",
    "   - use numerical data to calculate summaries (total sales,average profit)\n"
   ]
  },
  {
   "cell_type": "markdown",
   "metadata": {},
   "source": []
  }
 ],
 "metadata": {
  "language_info": {
   "name": "python"
  }
 },
 "nbformat": 4,
 "nbformat_minor": 2
}
