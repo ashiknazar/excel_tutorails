{
 "cells": [
  {
   "cell_type": "markdown",
   "metadata": {},
   "source": [
    "- power query in excel is a data preparation and transformation engine.it allows you to carry out the extract,transform and load operations on dataset."
   ]
  },
  {
   "cell_type": "markdown",
   "metadata": {},
   "source": [
    "- it allowed to connectivity to a range of data sources\n",
    "![powerquery](images/features.png)"
   ]
  },
  {
   "cell_type": "markdown",
   "metadata": {},
   "source": [
    "- Data -> Get Data (Get&Transform Data) -> From File -> From Text/CSV->SELECT DATA -> load"
   ]
  },
  {
   "cell_type": "markdown",
   "metadata": {},
   "source": [
    "- select data(not all data was selected from table) -> insert -> recommended charts ->"
   ]
  },
  {
   "cell_type": "markdown",
   "metadata": {},
   "source": [
    "#### importing from web pages\n"
   ]
  },
  {
   "cell_type": "markdown",
   "metadata": {},
   "source": [
    "- data -> get data -> from other sources -> from web<br>\n",
    " <b> or </b>\n",
    "-  data -> get&transform data group contains an icon for get data from web \n",
    "-  paste a url -> select deisired table\n",
    "-  transform data ->will open power query editor\n",
    "\n"
   ]
  },
  {
   "cell_type": "markdown",
   "metadata": {},
   "source": [
    "___\n",
    "- using powerquery editor we can clean,filter,manipulate data\n"
   ]
  },
  {
   "cell_type": "markdown",
   "metadata": {},
   "source": [
    "- Home  -> reducerows(group)  ->remove rows -> remove top rows -> give a no\n",
    "- steps applied can be viewed on right side"
   ]
  },
  {
   "cell_type": "markdown",
   "metadata": {},
   "source": [
    "- when use worldcup winners wiki website \n",
    "- venue column contains -> stadium ,place ,country\n",
    "- to extract only stadium\n",
    "    - select venue column -> Add column  -> Extract -> Text before delimiter ->set Delimiter as , \n",
    "- extract ->text between delimiter ->start delimiter -> end delimiter\n"
   ]
  },
  {
   "cell_type": "markdown",
   "metadata": {},
   "source": [
    "___\n",
    "- score column contains values like 4-3 \n",
    "- home ->split column  -> by delimiter\n",
    "- split at -> each occurance of delimiter\n",
    "___\n",
    "- to convert the winners column data to caps\n",
    "- select column -> Transform -> format -> choose\n",
    "___\n",
    "- to save all these \n",
    " - home ->close&load"
   ]
  },
  {
   "cell_type": "markdown",
   "metadata": {},
   "source": [
    "___\n",
    "- <b>find season which winner team have scored more than three goals</b>"
   ]
  },
  {
   "cell_type": "markdown",
   "metadata": {},
   "source": [
    "-  select any cell -> insert -> pivot table -> existing worksheet -> give a location \n",
    "- drag season,winners to rows \n",
    "- drag winners score to values\n",
    "- drag winners score to filters\n"
   ]
  },
  {
   "cell_type": "markdown",
   "metadata": {},
   "source": [
    "___"
   ]
  },
  {
   "cell_type": "markdown",
   "metadata": {},
   "source": [
    "#### compress data and remove unnecessary columns without loosing info\n",
    "- unpivot\n",
    "- we are using sensus data -> transform\n",
    "-  select state or union territory column -> transform -> unpivot columns ->unpivot other columns\n",
    "- home ->close &load"
   ]
  },
  {
   "cell_type": "markdown",
   "metadata": {},
   "source": [
    "___"
   ]
  },
  {
   "cell_type": "markdown",
   "metadata": {},
   "source": [
    "- adveture works dataset\n",
    "-  3 columns prefix ,first name, lastname -> select all and\n",
    "   - transform -> format -> capitalize each word\n",
    "- select 3 columns as above -> add column - >  merge columns ->separator -> space ->\n",
    "- remove columns\n",
    "___"
   ]
  },
  {
   "cell_type": "markdown",
   "metadata": {},
   "source": [
    "- adventure works products \n",
    "- find total no of product names \n",
    "    - select productname column -> transform ->statistics -> count values \n",
    "- similarly averge,.\n",
    "- convert a column values to 2 decimal places\n",
    "    - transform -> rounding -> round -> decimal places -> ok\n",
    "\n",
    "- custom columns\n",
    "   - select a column\n",
    "   - add column -> custom column  -> give a name ,formula\n",
    "___\n",
    "- calendar  \n",
    "     "
   ]
  },
  {
   "cell_type": "markdown",
   "metadata": {},
   "source": [
    "- home -> use first row as headers"
   ]
  },
  {
   "cell_type": "markdown",
   "metadata": {},
   "source": [
    "- date field may be string type\n",
    "- file ->options and settings - -> query options\n",
    "-> regional settings ->english (us) ->\n",
    "- transform ->datatyptext to data type date "
   ]
  },
  {
   "cell_type": "markdown",
   "metadata": {},
   "source": [
    "___\n",
    "- transform -> date ->earliest , latest\n",
    "-   in power query editor week start with sunday if want it with monday  ->give`` 1 ``as below (in formula)   or instead of 1 give ``day.Monday``"
   ]
  },
  {
   "cell_type": "markdown",
   "metadata": {},
   "source": [
    "![start of week](images/monday.png)"
   ]
  },
  {
   "cell_type": "markdown",
   "metadata": {},
   "source": []
  }
 ],
 "metadata": {
  "language_info": {
   "name": "python"
  }
 },
 "nbformat": 4,
 "nbformat_minor": 2
}
