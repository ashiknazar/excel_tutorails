{
 "cells": [
  {
   "cell_type": "markdown",
   "metadata": {},
   "source": [
    "- power query in excel is a data preparation and transformation engine.it allows you to carry out the extract,transform and load operations on dataset."
   ]
  },
  {
   "cell_type": "markdown",
   "metadata": {},
   "source": [
    "- it allowed to connectivity to a range of data sources\n",
    "![powerquery](images/features.png)"
   ]
  },
  {
   "cell_type": "markdown",
   "metadata": {},
   "source": [
    "- Get Data (Get&Transform Data) -> From File -> From Text/CSV->SELECT DATA -> load"
   ]
  },
  {
   "cell_type": "markdown",
   "metadata": {},
   "source": []
  }
 ],
 "metadata": {
  "language_info": {
   "name": "python"
  }
 },
 "nbformat": 4,
 "nbformat_minor": 2
}
